{
 "cells": [
  {
   "cell_type": "code",
   "execution_count": null,
   "metadata": {},
   "outputs": [],
   "source": [
    "import numpy as np\n",
    "\n",
    "def getdJdOmega(Z_K, ypsilon, c, eta_div, omega, mu):\n",
    "    dJdOmega = Z_K @ ((ypsilon - c) * eta_div( np.transpose(Z_K) @ omega + mu)) #ha med np.transpose??\n",
    "    return dJdOmega\n",
    "\n",
    "def getdJdW(h,P,sigma_div, W, b, Z, K): #Ha med K??\n",
    "    dJdW = np.zeros_like(W)\n",
    "    #K = len(W)\n",
    "    for k in range(K):\n",
    "        dJdW[k] = h*(P[k+1]*sigma_div(W[k]@Z[k]+b[k]))@np.transpose(Z[k])\n",
    "    return dJdW\n",
    "\n",
    "\n",
    "def getdJdb(h,P,sigma_div, W, b, Z, K): #Ha med K??\n",
    "    dJdb = np.zeros_like(b)\n",
    "    dJdb = np.zeros_like(b)\n",
    "    #K = len(W)\n",
    "    for k in range(K):\n",
    "        dJdb[k] = h*(P[k+1]*sigma_div(W[k]@Z[k]+b[k]))@np.transpose(np.array([[1]*len(Z[0,0,:])]))\n",
    "    return dJdb\n",
    "\n",
    "\n",
    "def getYpsilon(eta, Z_K, omega, mu):\n",
    "    return eta(np.transpose(Z_K) @ omega + mu)"
   ]
  }
 ],
 "metadata": {
  "kernelspec": {
   "display_name": "Python 3",
   "language": "python",
   "name": "python3"
  },
  "language_info": {
   "codemirror_mode": {
    "name": "ipython",
    "version": 3
   },
   "file_extension": ".py",
   "mimetype": "text/x-python",
   "name": "python",
   "nbconvert_exporter": "python",
   "pygments_lexer": "ipython3",
   "version": "3.7.3"
  }
 },
 "nbformat": 4,
 "nbformat_minor": 2
}
