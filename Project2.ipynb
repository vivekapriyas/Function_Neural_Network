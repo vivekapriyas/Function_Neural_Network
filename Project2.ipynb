{
 "cells": [
  {
   "cell_type": "code",
   "execution_count": null,
   "metadata": {},
   "outputs": [],
   "source": [
    "import numpy as np\n",
    "\n",
    "def getdJdOmega(Z_K, ypsilon, c, eta_div, omega, mu):\n",
    "    dJdOmega = Z_K @ ((ypsilon - c) * eta_div( np.transpose(Z_K) @ omega + mu)) #ha med np.transpose??\n",
    "    return dJdOmega\n",
    "\n",
    "def getdJdW(h,P,sigma_div, W, b, Z, K): #Ha med K??\n",
    "    dJdW = np.zeros_like(W)\n",
    "    #K = len(W)\n",
    "    for k in range(K):\n",
    "        dJdW[k] = h*(P[k+1]*sigma_div(W[k]@Z[k]+b[k]))@np.transpose(Z[k])\n",
    "    return dJdW\n",
    "\n",
    "\n",
    "def getdJdb(h,P,sigma_div, W, b, Z, K): #Ha med K??\n",
    "    dJdb = np.zeros_like(b)\n",
    "    dJdb = np.zeros_like(b)\n",
    "    #K = len(W)\n",
    "    for k in range(K):\n",
    "        dJdb[k] = h*(P[k+1]*sigma_div(W[k]@Z[k]+b[k]))@np.transpose(np.array([[1]*len(Z[0,0,:])]))\n",
    "    return dJdb\n",
    "\n",
    "\n",
    "def getYpsilon(eta, Z_K, omega, mu):\n",
    "    return eta(np.transpose(Z_K) @ omega + mu)"
   ]
  },
  {
   "cell_type": "code",
   "execution_count": null,
   "metadata": {},
   "outputs": [],
   "source": [
    "def getZ(Y,K,sigma,W,b,h):\n",
    "    #shape parameters\n",
    "    K = W.shape[0]\n",
    "    d = Y.shape[0]\n",
    "    I = Y.shape[1]\n",
    "\n",
    "    #initialize Z, Z0=Y\n",
    "    Z = np.zeros((K,d,I))\n",
    "    Z[0] = Y\n",
    "\n",
    "    #finds Zk\n",
    "    for k in range(1,K):\n",
    "        u = W[k-1]@Z[k-1] + b[k-1]\n",
    "        Z[k] = Z[k-1] + h*sigma(u)\n",
    "\n",
    "    #evt legge inn her å finn ypsilon? idk\n",
    "\n",
    "    return Z\n",
    "\n",
    "def getP(omega,ypsilon,c,etadiff,mu,h,W,sigmadiff,b,Z):\n",
    "    #shape parameters\n",
    "    K = W.shape[0]\n",
    "    d = Y.shape[0]\n",
    "    I = Y.shape[1]\n",
    "\n",
    "    #initialize P\n",
    "    P = np.zeros((K+1,d,I))\n",
    "\n",
    "    #finds P_K\n",
    "    u = np.transpose(Z[-1])@omega + np.full((d,I),mu)\n",
    "    P[-1]= omega@np.transpose((ypsilon-c)*etadiff(u))\n",
    "\n",
    "    #finds P_K-1 to P_0\n",
    "    for k in range(K,-1,-1):\n",
    "        s = W[k]@Z[k] + b[k]\n",
    "        P[k]=P[k+1] + h*np.transpose(W[k])@(sigmadiff(s)*P[k+1])\n",
    "\n",
    "    return P\n",
    "\n",
    "def getdJdmu(Zk,ypsilon,omega,mu,c,etadiff):\n",
    "    u = np.transpose(Zk)@omega + np.full(omega.shape,mu)\n",
    "\n",
    "    return np.transpose(etadiff(u))*(ypsilon-c)"
   ]
  }
 ],
 "metadata": {
  "kernelspec": {
   "display_name": "Python 3",
   "language": "python",
   "name": "python3"
  },
  "language_info": {
   "codemirror_mode": {
    "name": "ipython",
    "version": 3
   },
   "file_extension": ".py",
   "mimetype": "text/x-python",
   "name": "python",
   "nbconvert_exporter": "python",
   "pygments_lexer": "ipython3",
   "version": "3.7.1"
  }
 },
 "nbformat": 4,
 "nbformat_minor": 2
}
