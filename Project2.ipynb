{
 "cells": [
  {
   "cell_type": "code",
   "execution_count": null,
   "metadata": {
    "collapsed": true
   },
   "outputs": [],
   "source": [
    "import numpy as np\n",
    "import matplotlib.pyplot as plt\n",
    "\n",
    "def getW(K,d):\n",
    "    w = np.random.randn(K,d,d)\n",
    "    return w\n",
    "\n",
    "def getb(K,d):\n",
    "    b = np.random.randn(K,d,1)\n",
    "    return b\n",
    "\n",
    "def getomega(d):\n",
    "    omega = np.random.randn(d,1)\n",
    "    return omega\n",
    "\n",
    "def getmu():\n",
    "    mu = np.random.randn(1)\n",
    "    return mu\n",
    "\n",
    "\n",
    "def getdJdmu(Z, ypsilon, c, omega, mu, K, eta_div):\n",
    "    u = np.transpose(Z[K-1])@omega + mu\n",
    "    \n",
    "    dJdmu = np.transpose(eta_div(u))@(ypsilon-c)\n",
    "\n",
    "    return dJdmu\n",
    "\n",
    "def getdJdomega(Z, ypsilon, c, omega, mu, K, eta_div):\n",
    "    u = np.transpose(Z[K-1])@omega + mu\n",
    "    dJdOmega = Z[K-1] @ ((ypsilon - c) * eta_div(u))\n",
    "    return dJdOmega\n",
    "\n",
    "def getdJdW(P, Z, W, b, K, h, sigma_div):\n",
    "    dJdW = np.zeros_like(W)\n",
    "    for k in range(K):\n",
    "        u = W[k]@Z[k]+b[k]\n",
    "        dJdW[k] = h*(P[k+1]*sigma_div(u))@ np.transpose(Z[k])  \n",
    "    return dJdW\n",
    "\n",
    "def getdJdb(P, Z, W, b, K, h, sigma_div):\n",
    "    dJdb = np.zeros_like(b)\n",
    "    for k in range(K):\n",
    "        u = W[k]@Z[k]+b[k]\n",
    "        dJdb[k] = h*(P[k+1]*sigma_div(u))@np.ones((Z.shape[2],1))\n",
    "    return dJdb\n",
    "\n",
    "\n",
    "def getYpsilon(Z, omega, mu, eta):\n",
    "    u = np.transpose(Z[K-1]) @ omega + mu\n",
    "    return eta(u)"
   ]
  },
  {
   "cell_type": "code",
   "execution_count": null,
   "metadata": {
    "collapsed": true
   },
   "outputs": [],
   "source": [
    "def getZ(Y0, W, b, K, d, I, h, sigma):\n",
    "    #initialize Z, Z0=Y0\n",
    "    Z = np.zeros((K,d,I))\n",
    "    Z[0] = Y0\n",
    "\n",
    "    #finds Zk\n",
    "    for k in range(1,K):\n",
    "        u = W[k-1]@Z[k-1] + b[k-1]\n",
    "        Z[k] = Z[k-1] + h*sigma(u)\n",
    "\n",
    "    return Z\n",
    "\n",
    "def getP(Z, ypsilon, c, omega, mu, W, b, K, d, I, h, sigma_div, eta_div):\n",
    "    #initialize P\n",
    "    P = np.zeros((K+1,d,I))\n",
    "\n",
    "    #finds P_K\n",
    "    u = np.transpose(Z[-1])@omega + mu\n",
    "    P[-1]= np.outer(omega,(ypsilon-c)*eta_div(u))\n",
    "\n",
    "    #finds P_K-1 to P_0\n",
    "    for k in range(K-1,0,-1):\n",
    "        s = W[k]@Z[k] + b[k]\n",
    "        P[k]=P[k+1] + h*np.transpose(W[k])@(sigma_div(s)*P[k+1])\n",
    "        \n",
    "    return P"
   ]
  },
  {
   "cell_type": "code",
   "execution_count": null,
   "metadata": {},
   "outputs": [],
   "source": [
    "a = np.array([[1,2,3],[4,5,6]])\n",
    "b = np.array([[4,5,6]])\n",
    "#print(a@b)\n",
    "#print(np.transpose(a)@b)\n",
    "#print(a@np.transpose(b))\n",
    "print(np.outer(a,np.transpose(b)))\n",
    "\"\"\"temp = np.zeros((d,I))\n",
    "        for i in range(d0):\n",
    "            temp[i] = Y0[i]\n",
    "        Y0 = temp\"\"\"\n",
    "\n",
    "#print(a)\n",
    "#a.resize(4,3)\n",
    "#print(a)\n"
   ]
  },
  {
   "cell_type": "code",
   "execution_count": null,
   "metadata": {
    "collapsed": true
   },
   "outputs": [],
   "source": [
    "def trainingAlgorithm(K, d, h, tau, Y0, c, eta, sigma, eta_div, sigma_div, N = 1000):\n",
    "    d0 = Y0.shape[0]\n",
    "    I = Y0.shape[1]\n",
    "    if d0 < d:\n",
    "        Y0 = np.resize(Y0, (d,I))\n",
    "    omega = getomega(d)\n",
    "    mu = getmu()\n",
    "    W = getW(K,d)\n",
    "    b = getb(K,d)\n",
    "    c = np.transpose(c)\n",
    "    for i in range(N): #Number of trainingseries\n",
    "        print(i)\n",
    "        Z = getZ(Y0, W, b, K, d, I, h, sigma)\n",
    "        ypsilon = getYpsilon(Z, omega, mu, eta)\n",
    "        P = getP(Z, ypsilon, c, omega, mu, W, b, K, d, I, h, sigma_div, eta_div)\n",
    "        \n",
    "        dJdmu = getdJdmu(Z, ypsilon, c, omega, mu, K, eta_div)\n",
    "        dJdomega = getdJdomega(Z, ypsilon, c, omega, mu, K, eta_div)\n",
    "        dJdW = getdJdW(P, Z, W, b, K, h, sigma_div)\n",
    "        dJdb = getdJdb(P, Z, W, b, K, h, sigma_div)\n",
    "        \n",
    "        mu = mu - tau*dJdmu\n",
    "        omega = omega - tau*dJdomega\n",
    "        W = W - tau*dJdW\n",
    "        b = b - tau*dJdb\n",
    "    return mu, omega, W, b"
   ]
  },
  {
   "cell_type": "code",
   "execution_count": null,
   "metadata": {
    "collapsed": true
   },
   "outputs": [],
   "source": [
    "def scale(x, alpha, beta):\n",
    "    a = np.amin(x)\n",
    "    b = np.amax(x)\n",
    "    \n",
    "    x_tilde = 1/(b-a)*((b-x)*alpha + (x-a)*beta)\n",
    "    return x_tilde, a, b\n",
    "\n",
    "def inverseScale(x_tilde, a, b, alpha, beta):\n",
    "    return 1/(beta-alpha)*((x_tilde-alpha)*b + (beta-x_tilde)*a)"
   ]
  },
  {
   "cell_type": "code",
   "execution_count": null,
   "metadata": {
    "collapsed": true
   },
   "outputs": [],
   "source": [
    "def eta(x):\n",
    "    return x\n",
    "\n",
    "def eta_div(x):\n",
    "    return np.ones_like(x) \n",
    "\n",
    "def sigma(x):\n",
    "    return np.tanh(x)\n",
    "\n",
    "def sigma_div(x):\n",
    "    return 1 - np.tanh(x)**2"
   ]
  },
  {
   "cell_type": "code",
   "execution_count": null,
   "metadata": {},
   "outputs": [],
   "source": [
    "def F(y):\n",
    "    return 1/2*y**2\n",
    "\n",
    "Y0 = np.linspace(-2,2,100)\n",
    "Y0.resize(1,100)\n",
    "c = F(Y0)\n",
    "alpha = 0.2\n",
    "beta = 0.8\n",
    "\n",
    "Y0_tilde, aY0, bY0 = scale(Y0, alpha, beta)\n",
    "c_tilde, ac, bc = scale(Y0, alpha, beta)\n",
    "\n",
    "\n",
    "K = 10\n",
    "d = 2\n",
    "I = 100\n",
    "h = 0.1\n",
    "tau = 0.08\n",
    "\n",
    "\n",
    "mu, omega, W, b = trainingAlgorithm(K, d, h, tau, Y0_tilde, c_tilde, eta, sigma, eta_div, sigma_div)"
   ]
  },
  {
   "cell_type": "code",
   "execution_count": null,
   "metadata": {},
   "outputs": [],
   "source": [
    "Y_test = np.random.uniform(-2,2,(1,100))\n",
    "\n",
    "c_test = F(Y_test)\n",
    "\n",
    "\n",
    "YTest_tilde, aYTest, bYTest = scale(Y_test, alpha, beta)\n",
    "cTest_tilde, acTest, bcTest = scale(c_test, alpha, beta)\n",
    "\n",
    "ZTest = getZ(np.resize(YTest_tilde, (2,100)), W, b, K, d, I, h, sigma)\n",
    "print(ZTest)\n",
    "ypsilonTest = getYpsilon(ZTest, omega, mu, eta)\n",
    "\n",
    "\n",
    "ypsilonTest_new = inverseScale(ypsilonTest, acTest, bcTest, alpha, beta)\n",
    "\n",
    "\n",
    "plt.figure()\n",
    "plt.plot(Y_test, ypsilonTest_new, label = \"test\")\n",
    "plt.plot(Y_test[1], c_test, label = \"fasit\")\n",
    "plt.legend()\n"
   ]
  },
  {
   "cell_type": "code",
   "execution_count": null,
   "metadata": {
    "collapsed": true
   },
   "outputs": [],
   "source": []
  }
 ],
 "metadata": {
  "kernelspec": {
   "display_name": "Python 3",
   "language": "python",
   "name": "python3"
  },
  "language_info": {
   "codemirror_mode": {
    "name": "ipython",
    "version": 3
   },
   "file_extension": ".py",
   "mimetype": "text/x-python",
   "name": "python",
   "nbconvert_exporter": "python",
   "pygments_lexer": "ipython3",
   "version": "3.6.1"
  }
 },
 "nbformat": 4,
 "nbformat_minor": 2
}
